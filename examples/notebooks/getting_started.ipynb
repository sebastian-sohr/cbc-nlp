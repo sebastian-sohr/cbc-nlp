{
 "cells": [
  {
   "cell_type": "markdown",
   "metadata": {
    "pycharm": {
     "name": "#%% md\n"
    }
   },
   "source": [
    "# Tutorial: Create your own NLP Pipeline"
   ]
  },
  {
   "cell_type": "markdown",
   "metadata": {},
   "source": [
    "For the following tutorial, the file ``dewiki_simple_one_line.txt`` (see folder: [../sample_data/](../sample_data) ) will be used as a source for input text data. This file contains one text per line and is generated via Consileon NLP Framework (the code is provided in python notebook convert_wiki_simple.ipynb). Each text is extracted from a German Wikipedia article and line breaks are eliminated such that texts are represented as one-line-texts or \"Whole sentences\". This allows for an easier access to textual data. Other than that the texts are not processed any further to show some real NLP-tasks.  \n",
    "\n",
    "(See [./convert_wiki_simple.ipynb](convert_wiki_simple.ipynb) for details.)"
   ]
  },
  {
   "cell_type": "markdown",
   "metadata": {
    "pycharm": {
     "name": "#%% md\n"
    }
   },
   "source": [
    "Now let's get started! First we will import necessary packages:"
   ]
  },
  {
   "cell_type": "code",
   "execution_count": 1,
   "metadata": {
    "pycharm": {
     "name": "#%%\n"
    }
   },
   "outputs": [
    {
     "name": "stderr",
     "output_type": "stream",
     "text": [
      "[nltk_data] Downloading package stopwords to /home/sohr/nltk_data...\n",
      "[nltk_data]   Package stopwords is already up-to-date!\n"
     ]
    }
   ],
   "source": [
    "import cbc.nlp.base as nlp"
   ]
  },
  {
   "cell_type": "markdown",
   "metadata": {
    "pycharm": {
     "name": "#%% md\n"
    }
   },
   "source": [
    "### Generation of an input stream:\n",
    "Here we create an input stream **``s``** from a text file.\n",
    "\n",
    "Within the Consileon NLP Framework, a \"stream\" is a _Python iterator_\n",
    "that will provide a text or other object for each iteration."
   ]
  },
  {
   "cell_type": "code",
   "execution_count": 2,
   "metadata": {
    "pycharm": {
     "name": "#%%\n"
    }
   },
   "outputs": [],
   "source": [
    "s = nlp.LineSourceIterator(\"../sample_data/dewiki_simple_one_line.txt\")"
   ]
  },
  {
   "cell_type": "markdown",
   "metadata": {
    "pycharm": {
     "name": "#%% md\n"
    }
   },
   "source": [
    "Get the first text provided by the input stream using the function **`next()`**. <br>\n",
    "Notice that each time this function is called the next text in the sequence will be given as an output.\n",
    "\n",
    "Try it out by running the following cell several times."
   ]
  },
  {
   "cell_type": "code",
   "execution_count": 4,
   "metadata": {
    "pycharm": {
     "name": "#%%\n"
    }
   },
   "outputs": [
    {
     "name": "stdout",
     "output_type": "stream",
     "text": [
      "Das Actinium wurde im Jahr 1899 von dem französischen Chemiker André-Louis Debierne entdeckt, der es aus Pechblende isolierte und ihm zunächst Ähnlichkeiten mit dem Titan oder dem Thorium zuschrieb; seine Bezeichnung leitete er wegen der Radioaktivität von griechisch ἀκτίς ''aktís'' ‚Strahl‘ ab. Friedrich Giesel entdeckte das Element unabhängig davon im Jahr 1902 und beschrieb eine Ähnlichkeit zum Lanthan; er gab ihm den Namen '''Emanium''', eine Bildung zu lateinisch ''emano'' ‚ausfließen‘, ebenfalls mit Bezug zur abgegebenen Strahlung. Nachdem Actinium und Emanium im Jahre 1904 als identisch erkannt worden waren, wurde Debiernes Namensgebung der Vorzug gegeben, da er es zuerst entdeckt hatte. Die Geschichte der Entdeckung wurde in Publikationen von 1971 und später im Jahr 2000 immer noch als fraglich beschrieben. Sie zeigen, dass die Publikationen von 1904 einerseits und die von 1899 und 1900 andererseits Widersprüche aufweisen. Da in Uranerzen nur wenig Actinium vorhanden ist, spielt diese Quelle keine Rolle für die Gewinnung. Technisch wird das Isotop 227Ac durch Bestrahlung von 226Ra mit Neutronen in Kernreaktoren hergestellt. Durch den schnellen Zerfall des Actiniums waren stets nur geringe Mengen verfügbar. Die erste künstliche Herstellung von Actinium wurde im Argonne National Laboratory in Chicago durchgeführt. Das Metall ist silberweiß glänzend und relativ weich. Aufgrund seiner starken Radioaktivität leuchtet Actinium im Dunkeln in einem hellblauen Licht. Actinium ist das namensgebende Element der Actinoiden, ähnlich wie Lanthan für die Lanthanoiden. Die Gruppe der Elemente zeigt deutlichere Unterschiede als die Lanthanoide; daher dauerte es bis 1945, bis Glenn T. Seaborg die wichtigsten Änderungen zum Periodensystem von Mendelejew vorschlagen konnte: die Einführung der Actinoide. Es ist sehr reaktionsfähig und wird von Luft und Wasser angegriffen, überzieht sich aber mit einer Schicht von Actiniumoxid, wodurch es vor weiterer Oxidation geschützt ist. Das Ac3+-Ion ist farblos. Das chemische Verhalten von Actinium ähnelt sehr dem Lanthan. Actinium ist in allen zehn bekannten Verbindungen dreiwertig. Bekannt sind 26 Isotope, wovon nur zwei natürlich vorkommen. Das langlebigste Isotop 227Ac (Halbwertszeit 21,8 Jahre) hat zwei Zerfallskanäle: es ist ein Alpha- und Beta-Strahler. 227Ac ist ein Zerfallsprodukt des Uranisotops 235U und kommt zu einem kleinen Teil in Uranerzen vor. Daraus lassen sich wägbare Mengen 227Ac gewinnen, die somit ein verhältnismäßig einfaches Studium dieses Elementes ermöglichen. Da sich unter den radioaktiven Zerfallsprodukten einige Gammastrahler befinden, sind aber aufwändige Strahlenschutzvorkehrungen nötig. Actinium wird zur Erzeugung von Neutronen eingesetzt, die bei Aktivierungsanalysen eine Rolle spielen. Außerdem wird es für die thermoionische Energieumwandlung genutzt. Beim dualen Zerfall des 227Ac geht der größte Teil unter Emission von Beta-Teilchen in das Thoriumisotop 227Th, aber ca. 1 % zerfällt durch Alpha-Emission zu Francium 223Fr. Eine Lösung von 227Ac ist daher als Quelle für das kurzlebige 223Fr verwendbar. Letzteres kann dann regelmäßig abgetrennt und untersucht werden. Einstufungen nach der CLP-Verordnung liegen nicht vor, weil diese nur die chemische Gefährlichkeit umfassen und eine völlig untergeordnete Rolle gegenüber den auf der Radioaktivität beruhenden Gefahren spielen. Auch Letzteres gilt nur, wenn es sich um eine dafür relevante Stoffmenge handelt. Nur eine geringe Anzahl von Actiniumverbindungen ist bekannt. Mit Ausnahme von AcPO4 sind sie alle den entsprechenden Lanthanverbindungen ähnlich und enthalten Actinium in der Oxidationsstufe +3. Insbesondere unterscheiden sich die Gitterkonstanten der jeweiligen Lanthan- und Actinium-Verbindungen nur in wenigen Prozent. Actinium(III)-oxid (Ac2O3) kann durch Erhitzen des Hydroxids bei 500 °C oder des Oxalats bei 1100 °C im Vakuum erhalten werden. Das Kristallgitter ist isotyp mit den Oxiden der meisten dreiwertigen Seltenerdmetalle. Actinium(III)-fluorid (AcF3) kann entweder in Lösung oder durch Feststoffreaktion dargestellt werden. Im ersten Fall gibt man bei Raumtemperatur Flusssäure zu einer Ac3+-Lösung und fällt das Produkt aus. im anderen Fall wird Actinium-Metall mit Fluorwasserstoff bei 700 °C in einer Platinapparatur behandelt. Actinium(III)-chlorid (AcCl3) wird durch Umsetzung von Actiniumhydroxid oder -oxalat mit Tetrachlormethan bei Temperaturen oberhalb von 960 °C erhalten. Die Reaktion von Aluminiumbromid und Actinium(III)-oxid führt zum Actinium(III)-bromid (AcBr3) und Behandlung mit feuchtem Ammoniak bei 500 °C führt zum Oxibromid AcOBr. Gibt man Natriumdihydrogenphosphat (NaH2PO4) zu einer Lösung von Actinium in Salzsäure, erhält man weiß gefärbtes Actiniumphosphat (AcPO4 · 0,5 H2O); ein Erhitzen von Actinium(III)-oxalat mit Schwefelwasserstoff bei 1400 °C für ein paar Minuten führt zu schwarzem Actinium(III)-sulfid (Ac2S3).\n",
      "\n"
     ]
    }
   ],
   "source": [
    "text = next(s)\n",
    "print(text)"
   ]
  },
  {
   "cell_type": "markdown",
   "source": [
    "To _reset_ the stream (i.e. to start it from the beginning) you have to call"
   ],
   "metadata": {
    "collapsed": false
   }
  },
  {
   "cell_type": "code",
   "execution_count": 5,
   "outputs": [
    {
     "data": {
      "text/plain": "<cbc.nlp.base.LineSourceIterator at 0x7f9a8b9b8970>"
     },
     "execution_count": 5,
     "metadata": {},
     "output_type": "execute_result"
    }
   ],
   "source": [
    "s.__iter__()"
   ],
   "metadata": {
    "collapsed": false,
    "pycharm": {
     "name": "#%%\n"
    }
   }
  },
  {
   "cell_type": "markdown",
   "metadata": {
    "pycharm": {
     "name": "#%% md\n"
    }
   },
   "source": [
    "### Tokenization, Lemmatization and Lower-casing:"
   ]
  },
  {
   "cell_type": "markdown",
   "metadata": {},
   "source": [
    "In order for NLP-algorithms to process textual data, text elements need to be represented as tokens.\n",
    "This pre-processing step is called tokenization. <br>\n",
    "In the following code we create a tokenizer **`t`** with the help of the function **`TokenizeText()`**\n",
    "and apply it on a string example **`sample_text`** to see what this pre-processing step is all about:"
   ]
  },
  {
   "cell_type": "code",
   "execution_count": 6,
   "metadata": {},
   "outputs": [
    {
     "name": "stdout",
     "output_type": "stream",
     "text": [
      "['Der', 'Frühling', 'läßt', 'sein', 'blaues', 'Band', 'wieder', 'flattern', 'durch', 'die', 'Lüfte.', 'Süße', ',', 'wohlbekannte', 'Düfte', 'streifen', 'ahnungsvoll', 'das', 'Land', '.']\n"
     ]
    }
   ],
   "source": [
    "t = nlp.TokenizeText()\n",
    "sample_text = \"Der Frühling läßt sein blaues Band wieder flattern durch die Lüfte. Süße, wohlbekannte Düfte streifen ahnungsvoll das Land.\"\n",
    "\n",
    "print( t(sample_text) )"
   ]
  },
  {
   "cell_type": "markdown",
   "metadata": {},
   "source": [
    "Notice that each interpunctation character (as a text element) leads to a single token.\n",
    "\n",
    "In languages that frequently use conjugation and declination (e.g. German) it's often necessary to reduce\n",
    "the number of different tokens via _lemmatization_. Lemmatization reduces words to their _basic/dictionary form_,\n",
    "e.g. \"Lüfte\" to \"Luft\" or \"written\" to \"write\".\n",
    "\n",
    "In comparison with Tokenization, lemmatization depends on the natural language.\n",
    "For Consileon the default language (currently) is German."
   ]
  },
  {
   "cell_type": "markdown",
   "metadata": {},
   "source": [
    "To apply tokenization and lemmatization at once we use the function **`LemmaTokenizeText()`**:"
   ]
  },
  {
   "cell_type": "code",
   "execution_count": 7,
   "metadata": {},
   "outputs": [
    {
     "name": "stdout",
     "output_type": "stream",
     "text": [
      "['der', 'Frühling', 'lassen', 'mein', 'blau', 'Band', 'wieder', 'flattern', 'durch', 'der', 'Luft', '.', 'süßen', ',', 'wohlbekannte', 'Duft', 'streifen', 'ahnungsvoll', 'der', 'Land', '.']\n"
     ]
    }
   ],
   "source": [
    "l = nlp.LemmaTokenizeText()\n",
    "\n",
    "print( l(sample_text) )"
   ]
  },
  {
   "cell_type": "markdown",
   "metadata": {},
   "source": [
    "As seen above, lemmatization is not perfect, esp. not context sensitive.\n",
    "<br>\n",
    "Tokenizers and lemmatizers are examples of _modifiers_.\n",
    "Modifiers take one input object and transform it into an output object that may differ in its type from the former. In the case seen above, the input object is of type string and the output object if of type list."
   ]
  },
  {
   "cell_type": "markdown",
   "metadata": {
    "pycharm": {
     "name": "#%% md\n"
    }
   },
   "source": [
    "Another modifier is **`Lower()`** which transforms the tokens within a list to lower case:"
   ]
  },
  {
   "cell_type": "code",
   "execution_count": 8,
   "metadata": {
    "pycharm": {
     "name": "#%%\n"
    }
   },
   "outputs": [
    {
     "data": {
      "text/plain": "['hallo welt']"
     },
     "execution_count": 8,
     "metadata": {},
     "output_type": "execute_result"
    }
   ],
   "source": [
    "lc = nlp.Lower()\n",
    "\n",
    "lc([\"Hallo Welt\"])"
   ]
  },
  {
   "cell_type": "markdown",
   "metadata": {
    "pycharm": {
     "name": "#%% md\n"
    }
   },
   "source": [
    "### Composition of multiple modifiers via the operator * :"
   ]
  },
  {
   "cell_type": "markdown",
   "metadata": {
    "pycharm": {
     "name": "#%% md\n"
    }
   },
   "source": [
    "Modifiers can be composed (as in mathematics) using the operator `*` . In the following code, the tokenizer **`t`** and the modifier **`lc`** are composed and applied to the string **`sample_text`** :"
   ]
  },
  {
   "cell_type": "code",
   "execution_count": 9,
   "metadata": {
    "pycharm": {
     "name": "#%%\n"
    }
   },
   "outputs": [
    {
     "name": "stdout",
     "output_type": "stream",
     "text": [
      "['der', 'frühling', 'läßt', 'sein', 'blaues', 'band', 'wieder', 'flattern', 'durch', 'die', 'lüfte.', 'süße', ',', 'wohlbekannte', 'düfte', 'streifen', 'ahnungsvoll', 'das', 'land', '.'] ['der', 'frühling', 'läßt', 'sein', 'blaues', 'band', 'wieder', 'flattern', 'durch', 'die', 'lüfte.', 'süße', ',', 'wohlbekannte', 'düfte', 'streifen', 'ahnungsvoll', 'das', 'land', '.'] ['der', 'ball', 'sein', 'rund', '.']\n"
     ]
    }
   ],
   "source": [
    "m1 = lc * t\n",
    "print( m1(sample_text), (lc * t)(sample_text), (lc * nlp.LemmaTokenizeText())(\"Der Ball ist rund.\") )"
   ]
  },
  {
   "cell_type": "markdown",
   "metadata": {
    "pycharm": {
     "name": "#%% md\n"
    }
   },
   "source": [
    "One very important feature of modifiers is that they can easily be applied element wise to an input stream. In that way, you are able to create a textual-preprocessing pipeline in which you insert the input texts iteratively. This is done using the operator `**` . Now Let's see how the modifier-composition **`m1`** will handle the input stream **`s`**:"
   ]
  },
  {
   "cell_type": "code",
   "execution_count": 10,
   "metadata": {},
   "outputs": [
    {
     "name": "stdout",
     "output_type": "stream",
     "text": [
      "['alternative', 'schreibweisen', 'sind', 'unter', 'anderem', 'die', 'ursprungsvariante', '``', 'allen', 'smithee', \"''\", 'sowie', '``', 'alan', 'smythee', \"''\", 'und', '``', 'adam', 'smithee', \"''\", '.', 'auch', 'zwei', 'teilweise', 'asiatisch', 'anmutende', 'schreibweisen', '``', 'alan', 'smi', 'thee', \"''\", 'und', '``', 'sumishii', 'aran', \"''\", 'gehören', '–', 'so', 'die', 'internet', 'movie', 'database', '–', 'dazu.', 'das', 'pseudonym', 'entstand', '1968', 'infolge', 'der', 'arbeiten', 'am', 'western-film', '``', 'death', 'of', 'a', 'gunfighter', \"''\", 'deutscher', 'titel', '``', 'frank', 'patch', '–', 'deine', 'stunden', 'sind', 'gezählt', \"''\", '.', 'regisseur', 'robert', 'totten', 'und', 'hauptdarsteller', 'richard', 'widmark', 'gerieten', 'in', 'einen', 'streit', ',', 'woraufhin', 'don', 'siegel', 'als', 'neuer', 'regisseur', 'eingesetzt', 'wurde.', 'der', 'film', 'trug', 'nach', 'abschluss', 'der', 'arbeiten', 'noch', 'deutlich', 'tottens', 'handschrift', ',', 'der', 'auch', 'mehr', 'drehtage', 'als', 'siegel', 'daran', 'gearbeitet', 'hatte', ',', 'weshalb', 'dieser', 'die', 'nennung', 'seines', 'namens', 'als', 'regisseur', 'ablehnte.', 'totten', 'selbst', 'lehnte', 'aber', 'ebenfalls', 'ab.', 'als', 'lösung', 'wurde', '``', 'allen', 'smithee', \"''\", 'als', 'ein', 'möglichst', 'einzigartiger', 'name', 'gewählt', 'bei', 'der', 'späteren', 'variante', '``', 'alan', 'smithee', \"''\", 'war', 'das', 'anagramm', '``', 'the', 'alias', 'men', \"''\", 'vermutlich', 'kein', 'entstehungsgrund', '.', 'in', 'den', 'zeitgenössischen', 'kritiken', 'wurde', 'der', 'regisseur', 'u.', 'a.', 'von', 'roger', 'ebert', 'mit', 'den', 'worten', 'gelobt', ':', '1997', 'kam', 'die', 'parodie', '``', 'an', 'alan', 'smithee', 'film', ':', 'burn', 'hollywood', 'burn', \"''\", 'deutscher', 'titel', '``', 'fahr', 'zur', 'hölle', 'hollywood', \"''\", 'in', 'die', 'kinos', ',', 'was', 'das', 'pseudonym', 'einem', 'größeren', 'publikum', 'bekannt', 'machte', ',', 'nicht', 'zuletzt', 'weil', 'arthur', 'hiller', ',', 'der', 'eigentliche', 'regisseur', 'des', 'films', ',', 'selbst', 'seinen', 'namen', 'zurückzog', 'und', 'analog', 'zum', 'filmtitel', 'das', 'pseudonym', '``', 'alan', 'smithee', \"''\", 'benutzte.', 'der', 'film', 'gilt', 'als', 'einer', 'der', 'schlechtesten', 'filme', 'der', '1990er', 'jahre', 'und', 'gewann', 'fünf', 'goldene', 'himbeeren.', 'der', 'film', '``', 'supernova', \"''\", 'ist', 'der', 'erste', 'post-smithee-film', ',', 'dort', 'führte', 'ein', 'gewisser', '``', 'thomas', 'lee', \"''\", 'alias', 'walter', 'hill', 'die', 'regie.', 'die', 'verwendung', 'dieses', 'oder', 'eines', 'anderen', 'pseudonyms', 'ist', 'für', 'mitglieder', 'der', 'dga', 'streng', 'reglementiert.', 'ein', 'regisseur', ',', 'der', 'für', 'einen', 'von', 'ihm', 'gedrehten', 'film', 'seinen', 'namen', 'nicht', 'hergeben', 'möchte', ',', 'hat', 'nach', 'sichtung', 'des', 'fertigen', 'films', 'drei', 'tage', 'zeit', ',', 'anzuzeigen', ',', 'dass', 'er', 'ein', 'pseudonym', 'verwenden', 'möchte.', 'der', 'rat', 'der', 'dga', 'entscheidet', 'binnen', 'zwei', 'tagen', 'über', 'das', 'anliegen.', 'erhebt', 'die', 'produktionsfirma', 'einspruch', ',', 'entscheidet', 'ein', 'komitee', 'aus', 'mitgliedern', 'der', 'dga', 'und', 'der', 'vereinigung', 'der', 'film-', 'und', 'fernsehproduzenten', ',', 'ob', 'der', 'regisseur', 'ein', 'pseudonym', 'angeben', 'darf.', 'über', 'die', 'beantragung', 'muss', 'der', 'regisseur', 'stillschweigen', 'halten', ',', 'ebenso', 'darf', 'er', 'den', 'fertigen', 'film', 'nicht', 'öffentlich', 'kritisieren', ',', 'wenn', 'die', 'dga', 'ihm', 'die', 'verwendung', 'eines', 'pseudonyms', 'zugesteht.', 'ein', 'antrag', 'des', 'regisseurs', 'auf', 'pseudonymisierung', 'kann', 'abgelehnt', 'werden', ',', 'so', 'durfte', 'tony', 'kaye', 'den', 'namen', 'smithee', 'bei', 'dem', 'film', '``', 'american', 'history', 'x', \"''\", 'nicht', 'einsetzen', ',', 'obwohl', 'er', 'den', 'antrag', 'stellte.', 'auch', 'bei', 'nicht-us-amerikanischen', 'produktionen', 'wird', 'der', 'name', 'verwendet', ',', 'wie', 'etwa', 'beim', 'pilotfilm', 'der', 'fernsehserie', '``', 'schulmädchen', \"''\", '.', '2007', 'sendete', 'die', 'ard', 'am', '8.', 'und', '9.', 'august', 'den', 'zweiteiligen', 'tv-film', '``', 'paparazzo', \"''\", '.', 'auch', 'in', 'diesem', 'werk', 'erscheint', 'anstatt', 'des', 'eigentlichen', 'regisseurs', 'stephan', 'wagner', 'alan', 'smithee', 'im', 'abspann.', 'regisseure', ',', 'die', 'das', 'pseudonym', 'benutzt', 'haben', ':', 'der', 'pilotfilm', 'der', 'serie', '``', 'macgyver', \"''\", 'und', 'die', 'fünfte', 'folge', 'der', 'ersten', 'staffel', 'führen', 'einen', 'alan', 'smithee', 'als', 'regisseur.', 'auf', 'der', 'tv-serien-seite', '``', 'tv', 'rage', \"''\", 'wird', 'jerrold', 'freedman', 'als', 'regisseur', 'des', 'pilotfilms', 'angegeben.', 'der', 'regisseur', 'der', 'fünften', 'folge', 'ist', 'unbekannt.', 'zu', 'den', 'drehbuchautoren', ',', 'die', 'das', 'pseudonym', 'benutzt', 'haben', ',', 'gehören', 'sam', 'raimi', 'und', 'ivan', 'raimi', ',', 'die', 'das', 'drehbuch', 'zu', '``', 'die', 'total', 'beknackte', 'nuß', \"''\", 'als', '``', 'alan', 'smithee', ',', 'jr.', \"''\", 'und', '``', 'alan', 'smithee', ',', 'sr.', \"''\", 'schrieben.', 'auch', 'in', 'computerspielen', 'wird', 'dieses', 'pseudonym', 'angegeben', ':', 'im', 'abspann', 'des', 'ego-shooters', '``', 'marine', 'sharpshooter', 'iv', \"''\", 'aus', 'dem', 'jahr', '2008', 'wird', 'als', 'art', 'director', 'des', 'spiels', '``', 'alan', 'smithee', \"''\", 'genannt.', '2014', 'produzierte', 'die', 'new', 'yorker', 'performance-kompanie', 'big', 'dance', 'theater', '``', 'alan', 'smithee', 'directed', 'this', 'play', \"''\", ',', 'das', 'im', 'august', 'des', 'jahres', 'auch', 'in', 'berlin', 'bei', 'tanz', 'im', 'august', 'aufgeführt', 'wurde', '.']\n"
     ]
    }
   ],
   "source": [
    "p = m1 ** s\n",
    "tkns = next(p)\n",
    "\n",
    "print( tkns )"
   ]
  },
  {
   "cell_type": "markdown",
   "metadata": {},
   "source": [
    "With the same results as before, the preprocessing pipeline **`p`** can be implemented as follows: "
   ]
  },
  {
   "cell_type": "code",
   "execution_count": 11,
   "metadata": {
    "pycharm": {
     "name": "#%%\n"
    }
   },
   "outputs": [
    {
     "name": "stdout",
     "output_type": "stream",
     "text": [
      "['alternative', 'schreibweisen', 'sind', 'unter', 'anderem', 'die', 'ursprungsvariante', '``', 'allen', 'smithee', \"''\", 'sowie', '``', 'alan', 'smythee', \"''\", 'und', '``', 'adam', 'smithee', \"''\", '.', 'auch', 'zwei', 'teilweise', 'asiatisch', 'anmutende', 'schreibweisen', '``', 'alan', 'smi', 'thee', \"''\", 'und', '``', 'sumishii', 'aran', \"''\", 'gehören', '–', 'so', 'die', 'internet', 'movie', 'database', '–', 'dazu.', 'das', 'pseudonym', 'entstand', '1968', 'infolge', 'der', 'arbeiten', 'am', 'western-film', '``', 'death', 'of', 'a', 'gunfighter', \"''\", 'deutscher', 'titel', '``', 'frank', 'patch', '–', 'deine', 'stunden', 'sind', 'gezählt', \"''\", '.', 'regisseur', 'robert', 'totten', 'und', 'hauptdarsteller', 'richard', 'widmark', 'gerieten', 'in', 'einen', 'streit', ',', 'woraufhin', 'don', 'siegel', 'als', 'neuer', 'regisseur', 'eingesetzt', 'wurde.', 'der', 'film', 'trug', 'nach', 'abschluss', 'der', 'arbeiten', 'noch', 'deutlich', 'tottens', 'handschrift', ',', 'der', 'auch', 'mehr', 'drehtage', 'als', 'siegel', 'daran', 'gearbeitet', 'hatte', ',', 'weshalb', 'dieser', 'die', 'nennung', 'seines', 'namens', 'als', 'regisseur', 'ablehnte.', 'totten', 'selbst', 'lehnte', 'aber', 'ebenfalls', 'ab.', 'als', 'lösung', 'wurde', '``', 'allen', 'smithee', \"''\", 'als', 'ein', 'möglichst', 'einzigartiger', 'name', 'gewählt', 'bei', 'der', 'späteren', 'variante', '``', 'alan', 'smithee', \"''\", 'war', 'das', 'anagramm', '``', 'the', 'alias', 'men', \"''\", 'vermutlich', 'kein', 'entstehungsgrund', '.', 'in', 'den', 'zeitgenössischen', 'kritiken', 'wurde', 'der', 'regisseur', 'u.', 'a.', 'von', 'roger', 'ebert', 'mit', 'den', 'worten', 'gelobt', ':', '1997', 'kam', 'die', 'parodie', '``', 'an', 'alan', 'smithee', 'film', ':', 'burn', 'hollywood', 'burn', \"''\", 'deutscher', 'titel', '``', 'fahr', 'zur', 'hölle', 'hollywood', \"''\", 'in', 'die', 'kinos', ',', 'was', 'das', 'pseudonym', 'einem', 'größeren', 'publikum', 'bekannt', 'machte', ',', 'nicht', 'zuletzt', 'weil', 'arthur', 'hiller', ',', 'der', 'eigentliche', 'regisseur', 'des', 'films', ',', 'selbst', 'seinen', 'namen', 'zurückzog', 'und', 'analog', 'zum', 'filmtitel', 'das', 'pseudonym', '``', 'alan', 'smithee', \"''\", 'benutzte.', 'der', 'film', 'gilt', 'als', 'einer', 'der', 'schlechtesten', 'filme', 'der', '1990er', 'jahre', 'und', 'gewann', 'fünf', 'goldene', 'himbeeren.', 'der', 'film', '``', 'supernova', \"''\", 'ist', 'der', 'erste', 'post-smithee-film', ',', 'dort', 'führte', 'ein', 'gewisser', '``', 'thomas', 'lee', \"''\", 'alias', 'walter', 'hill', 'die', 'regie.', 'die', 'verwendung', 'dieses', 'oder', 'eines', 'anderen', 'pseudonyms', 'ist', 'für', 'mitglieder', 'der', 'dga', 'streng', 'reglementiert.', 'ein', 'regisseur', ',', 'der', 'für', 'einen', 'von', 'ihm', 'gedrehten', 'film', 'seinen', 'namen', 'nicht', 'hergeben', 'möchte', ',', 'hat', 'nach', 'sichtung', 'des', 'fertigen', 'films', 'drei', 'tage', 'zeit', ',', 'anzuzeigen', ',', 'dass', 'er', 'ein', 'pseudonym', 'verwenden', 'möchte.', 'der', 'rat', 'der', 'dga', 'entscheidet', 'binnen', 'zwei', 'tagen', 'über', 'das', 'anliegen.', 'erhebt', 'die', 'produktionsfirma', 'einspruch', ',', 'entscheidet', 'ein', 'komitee', 'aus', 'mitgliedern', 'der', 'dga', 'und', 'der', 'vereinigung', 'der', 'film-', 'und', 'fernsehproduzenten', ',', 'ob', 'der', 'regisseur', 'ein', 'pseudonym', 'angeben', 'darf.', 'über', 'die', 'beantragung', 'muss', 'der', 'regisseur', 'stillschweigen', 'halten', ',', 'ebenso', 'darf', 'er', 'den', 'fertigen', 'film', 'nicht', 'öffentlich', 'kritisieren', ',', 'wenn', 'die', 'dga', 'ihm', 'die', 'verwendung', 'eines', 'pseudonyms', 'zugesteht.', 'ein', 'antrag', 'des', 'regisseurs', 'auf', 'pseudonymisierung', 'kann', 'abgelehnt', 'werden', ',', 'so', 'durfte', 'tony', 'kaye', 'den', 'namen', 'smithee', 'bei', 'dem', 'film', '``', 'american', 'history', 'x', \"''\", 'nicht', 'einsetzen', ',', 'obwohl', 'er', 'den', 'antrag', 'stellte.', 'auch', 'bei', 'nicht-us-amerikanischen', 'produktionen', 'wird', 'der', 'name', 'verwendet', ',', 'wie', 'etwa', 'beim', 'pilotfilm', 'der', 'fernsehserie', '``', 'schulmädchen', \"''\", '.', '2007', 'sendete', 'die', 'ard', 'am', '8.', 'und', '9.', 'august', 'den', 'zweiteiligen', 'tv-film', '``', 'paparazzo', \"''\", '.', 'auch', 'in', 'diesem', 'werk', 'erscheint', 'anstatt', 'des', 'eigentlichen', 'regisseurs', 'stephan', 'wagner', 'alan', 'smithee', 'im', 'abspann.', 'regisseure', ',', 'die', 'das', 'pseudonym', 'benutzt', 'haben', ':', 'der', 'pilotfilm', 'der', 'serie', '``', 'macgyver', \"''\", 'und', 'die', 'fünfte', 'folge', 'der', 'ersten', 'staffel', 'führen', 'einen', 'alan', 'smithee', 'als', 'regisseur.', 'auf', 'der', 'tv-serien-seite', '``', 'tv', 'rage', \"''\", 'wird', 'jerrold', 'freedman', 'als', 'regisseur', 'des', 'pilotfilms', 'angegeben.', 'der', 'regisseur', 'der', 'fünften', 'folge', 'ist', 'unbekannt.', 'zu', 'den', 'drehbuchautoren', ',', 'die', 'das', 'pseudonym', 'benutzt', 'haben', ',', 'gehören', 'sam', 'raimi', 'und', 'ivan', 'raimi', ',', 'die', 'das', 'drehbuch', 'zu', '``', 'die', 'total', 'beknackte', 'nuß', \"''\", 'als', '``', 'alan', 'smithee', ',', 'jr.', \"''\", 'und', '``', 'alan', 'smithee', ',', 'sr.', \"''\", 'schrieben.', 'auch', 'in', 'computerspielen', 'wird', 'dieses', 'pseudonym', 'angegeben', ':', 'im', 'abspann', 'des', 'ego-shooters', '``', 'marine', 'sharpshooter', 'iv', \"''\", 'aus', 'dem', 'jahr', '2008', 'wird', 'als', 'art', 'director', 'des', 'spiels', '``', 'alan', 'smithee', \"''\", 'genannt.', '2014', 'produzierte', 'die', 'new', 'yorker', 'performance-kompanie', 'big', 'dance', 'theater', '``', 'alan', 'smithee', 'directed', 'this', 'play', \"''\", ',', 'das', 'im', 'august', 'des', 'jahres', 'auch', 'in', 'berlin', 'bei', 'tanz', 'im', 'august', 'aufgeführt', 'wurde', '.']\n"
     ]
    }
   ],
   "source": [
    "p = nlp.Lower() ** nlp.TokenizeText() ** s\n",
    "tkns = next(p)\n",
    "print( tkns )"
   ]
  },
  {
   "cell_type": "markdown",
   "metadata": {
    "pycharm": {
     "name": "#%% md\n"
    }
   },
   "source": [
    "The former structure applies a modifier **` m1= lc * t`** to the elements of the stream **`s`**.\n",
    "In the later structure, the  application of **`nlp.TokenizeText()`** to the elements of **`s`** results in a **new stream**. The pipeline p is re-obtained by appling the modifier **`nlp.Lower()`** to the items of the stream **`nlp.TokenizeText() ** s`**.\n"
   ]
  }
 ],
 "metadata": {
  "kernelspec": {
   "name": "pycharm-ab7a5844",
   "language": "python",
   "display_name": "PyCharm (cbc-nlp (sebastian-sohr))"
  },
  "language_info": {
   "codemirror_mode": {
    "name": "ipython",
    "version": 3
   },
   "file_extension": ".py",
   "mimetype": "text/x-python",
   "name": "python",
   "nbconvert_exporter": "python",
   "pygments_lexer": "ipython3",
   "version": "3.7.6"
  }
 },
 "nbformat": 4,
 "nbformat_minor": 2
}