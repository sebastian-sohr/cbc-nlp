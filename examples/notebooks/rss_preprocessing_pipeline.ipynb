{
 "cells": [
  {
   "cell_type": "code",
   "execution_count": 1,
   "metadata": {},
   "outputs": [
    {
     "name": "stderr",
     "output_type": "stream",
     "text": [
      "[nltk_data] Downloading package stopwords to /home/sohr/nltk_data...\n",
      "[nltk_data]   Package stopwords is already up-to-date!\n"
     ]
    }
   ],
   "source": [
    "import cbc.nlp.base as nlp\n",
    "import cbc.nlp.rss_scraping as rss\n",
    "from cbc.content import FileSystemContentHandler"
   ]
  },
  {
   "cell_type": "code",
   "execution_count": 2,
   "metadata": {
    "pycharm": {
     "name": "#%%\n"
    }
   },
   "outputs": [],
   "source": [
    "base_folder = \"../sample_data/rss_feeds\"\n",
    "content_handler = FileSystemContentHandler(base_folder=base_folder)\n",
    "channels = [\"bw\", \"rki\"]\n",
    "file_list = rss.create_rss_file_list(content_handler, channels)\n",
    "target_file = \"../sample_data/rss_tokens.txt\""
   ]
  },
  {
   "cell_type": "code",
   "execution_count": 3,
   "metadata": {
    "pycharm": {
     "name": "#%%\n"
    }
   },
   "outputs": [],
   "source": [
    "trafo    = nlp.Lower() * nlp.Remove() * nlp.LemmaTokenizeText()\n",
    "source   = nlp.XmlParser() ** nlp.FileSourceGenerator(file_list, content_handler=content_handler)\n",
    "pipeline = trafo ** source\n",
    "\n",
    "target   = nlp.TokensToFile(target_file)"
   ]
  },
  {
   "cell_type": "code",
   "execution_count": 4,
   "metadata": {
    "pycharm": {
     "name": "#%%\n"
    },
    "scrolled": true
   },
   "outputs": [
    {
     "data": {
      "text/plain": "<cbc.nlp.base.TokensToFile at 0x7f17cf2f73a0>"
     },
     "execution_count": 4,
     "metadata": {},
     "output_type": "execute_result"
    }
   ],
   "source": [
    "target ** pipeline"
   ]
  },
  {
   "cell_type": "code",
   "execution_count": null,
   "metadata": {},
   "outputs": [],
   "source": []
  }
 ],
 "metadata": {
  "kernelspec": {
   "name": "pycharm-ab7a5844",
   "language": "python",
   "display_name": "PyCharm (cbc-nlp (sebastian-sohr))"
  },
  "language_info": {
   "codemirror_mode": {
    "name": "ipython",
    "version": 3
   },
   "file_extension": ".py",
   "mimetype": "text/x-python",
   "name": "python",
   "nbconvert_exporter": "python",
   "pygments_lexer": "ipython3",
   "version": "3.7.6"
  }
 },
 "nbformat": 4,
 "nbformat_minor": 1
}